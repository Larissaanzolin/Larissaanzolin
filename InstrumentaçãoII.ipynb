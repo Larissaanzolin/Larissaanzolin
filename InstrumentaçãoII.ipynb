{
  "nbformat": 4,
  "nbformat_minor": 0,
  "metadata": {
    "colab": {
      "provenance": [],
      "authorship_tag": "ABX9TyMoEpXAP/dzOHb7asuXzcez",
      "include_colab_link": true
    },
    "kernelspec": {
      "name": "python3",
      "display_name": "Python 3"
    },
    "language_info": {
      "name": "python"
    }
  },
  "cells": [
    {
      "cell_type": "markdown",
      "metadata": {
        "id": "view-in-github",
        "colab_type": "text"
      },
      "source": [
        "<a href=\"https://colab.research.google.com/github/Larissaanzolin/Larissaanzolin/blob/main/Instrumenta%C3%A7%C3%A3oII.ipynb\" target=\"_parent\"><img src=\"https://colab.research.google.com/assets/colab-badge.svg\" alt=\"Open In Colab\"/></a>"
      ]
    },
    {
      "cell_type": "markdown",
      "metadata": {
        "id": "Ko_etgh-Be7S"
      },
      "source": [
        "Situação do Aluno\n"
      ]
    },
    {
      "cell_type": "code",
      "metadata": {
        "colab": {
          "base_uri": "https://localhost:8080/"
        },
        "id": "povscEZPBmOt",
        "outputId": "8d4be0aa-f7cc-4dde-a3b2-9795690116f7"
      },
      "source": [
        "nota1 = 6; nota2 = 7; nota3 = 8;\n",
        "quant_faltas = 10;\n",
        "\n",
        "media = (nota1 + nota2 + nota3)/3;\n",
        "print('A média das notas é:',media)\n",
        "\n",
        "if quant_faltas <= 15:\n",
        "  print('Possui menos de 25% de faltas')\n",
        "else:\n",
        "  print('Possui mais de 25% de faltas')\n",
        "\n",
        "if  media >= 6 and quant_faltas <= 15:\n",
        "  print('Aprovado')\n",
        "elif media >= 4 and media < 6 and quant_faltas <= 15:\n",
        "  print('Recuperação')\n",
        "else:\n",
        "  print('Reprovado')"
      ],
      "execution_count": null,
      "outputs": [
        {
          "output_type": "stream",
          "text": [
            "A média das notas é: 7.0\n",
            "Possui menos de 25% de faltas\n",
            "Aprovado\n"
          ],
          "name": "stdout"
        }
      ]
    },
    {
      "cell_type": "markdown",
      "metadata": {
        "id": "b_8SN2q8Hh7T"
      },
      "source": [
        "Calculando Fatorial\n"
      ]
    },
    {
      "cell_type": "code",
      "metadata": {
        "colab": {
          "base_uri": "https://localhost:8080/"
        },
        "id": "ex1yClkVHp8C",
        "outputId": "d3dd56ba-6724-4832-ffa2-a50dffd68689"
      },
      "source": [
        "i = 0;\n",
        "n = 6;\n",
        "y = 1;\n",
        "\n",
        "while (i < n):\n",
        "  if ((n < 0) or (n >= 20)):\n",
        "    print('Entrada não permitida!')\n",
        "    break\n",
        "  else:\n",
        "    y = y*(i + 1);\n",
        "    i = i + 1;\n",
        "    print(y)\n"
      ],
      "execution_count": null,
      "outputs": [
        {
          "output_type": "stream",
          "text": [
            "1\n",
            "2\n",
            "6\n",
            "24\n",
            "120\n",
            "720\n"
          ],
          "name": "stdout"
        }
      ]
    }
  ]
}